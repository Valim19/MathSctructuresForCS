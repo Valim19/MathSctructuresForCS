{
 "cells": [
  {
   "cell_type": "markdown",
   "id": "dbe46bff3d96cfba",
   "metadata": {},
   "source": [
    "**Input** - Number n of terms in a geometric progression, the initial term a, and the common ratio r\n",
    "\n",
    "**Output** - Sum of the first n terms using\n",
    "1. Iteration\n",
    "2. Formula of ex. 27, sec. 2.2"
   ]
  },
  {
   "cell_type": "code",
   "execution_count": 3,
   "id": "66ade39fca250798",
   "metadata": {
    "ExecuteTime": {
     "end_time": "2025-06-12T19:02:14.526802Z",
     "start_time": "2025-06-12T19:02:14.523303Z"
    }
   },
   "outputs": [],
   "source": [
    "def geometric_sum_iterative(n, a, r):\n",
    "    count = 0\n",
    "    sum = 0\n",
    "\n",
    "    while count < n:\n",
    "        if count == 0:\n",
    "            sum = a\n",
    "            print(sum)\n",
    "        else:\n",
    "            sum += a*r**count\n",
    "            print(sum)\n",
    "\n",
    "    print(f\"A soma final é: {sum}\")\n"
   ]
  },
  {
   "cell_type": "markdown",
   "id": "8512686e550caa3e",
   "metadata": {},
   "source": [
    "**Input -** Number n of terms in an arithmetic progression, the initial term a and the common difference d\n",
    "\n",
    "**Output -** Sum of the first n terms using\n",
    "1. Iteration\n",
    "2. Formula of ex. 28, sec. 2.2"
   ]
  }
 ],
 "metadata": {
  "kernelspec": {
   "display_name": "Python 3 (ipykernel)",
   "language": "python",
   "name": "python3"
  },
  "language_info": {
   "codemirror_mode": {
    "name": "ipython",
    "version": 3
   },
   "file_extension": ".py",
   "mimetype": "text/x-python",
   "name": "python",
   "nbconvert_exporter": "python",
   "pygments_lexer": "ipython3",
   "version": "3.11.2"
  }
 },
 "nbformat": 4,
 "nbformat_minor": 5
}
