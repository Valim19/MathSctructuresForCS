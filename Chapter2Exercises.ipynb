{
 "cells": [
  {
   "metadata": {},
   "cell_type": "markdown",
   "source": [
    "**Input** - Number n of terms in a geometric progression, the initial term a, and the common ratio r\n",
    "\n",
    "**Output** - Sum of the first n terms using\n",
    "1. Iteration\n",
    "2. Formula of ex. 27, sec. 2.2"
   ],
   "id": "dbe46bff3d96cfba"
  },
  {
   "metadata": {},
   "cell_type": "markdown",
   "source": [
    "**Input -** Number n of terms in an arithmetic progression, the initial term a and the common difference d\n",
    "\n",
    "**Output -** Sum of the first n terms using\n",
    "1. Iteration\n",
    "2. Formula of ex. 28, sec. 2.2"
   ],
   "id": "8512686e550caa3e"
  }
 ],
 "metadata": {
  "kernelspec": {
   "display_name": "Python 3",
   "language": "python",
   "name": "python3"
  },
  "language_info": {
   "codemirror_mode": {
    "name": "ipython",
    "version": 2
   },
   "file_extension": ".py",
   "mimetype": "text/x-python",
   "name": "python",
   "nbconvert_exporter": "python",
   "pygments_lexer": "ipython2",
   "version": "2.7.6"
  }
 },
 "nbformat": 4,
 "nbformat_minor": 5
}
