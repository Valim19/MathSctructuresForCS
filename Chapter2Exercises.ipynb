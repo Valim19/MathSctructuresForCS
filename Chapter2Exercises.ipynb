{
 "cells": [
  {
   "cell_type": "markdown",
   "id": "dbe46bff3d96cfba",
   "metadata": {},
   "source": [
    "**Input** - Number n of terms in a geometric progression, the initial term a, and the common ratio r\n",
    "\n",
    "**Output** - Sum of the first n terms using\n",
    "1. Iteration\n",
    "2. Formula of ex. 27, sec. 2.2"
   ]
  },
  {
   "cell_type": "code",
   "id": "66ade39fca250798",
   "metadata": {
    "ExecuteTime": {
     "end_time": "2025-06-12T19:21:11.723724Z",
     "start_time": "2025-06-12T19:21:11.719215Z"
    }
   },
   "source": [
    "def geometric_sum_iterative(n, a, r):\n",
    "    total = 0\n",
    "\n",
    "    for i in range(n):\n",
    "        termo = a * r ** i\n",
    "        total += termo\n",
    "        ## print(f\"A soma parcial do termo {i} é: {total}\")\n",
    "\n",
    "    print(f\"A soma final é: {total}\")\n",
    "\n",
    "def geometric_sum_formula(n, a, r):\n",
    "    total = (a - (a * r ** n)) / (1 - r)\n",
    "    print(f\"A soma final é: {total}\")\n",
    "\n",
    "geometric_sum_iterative(100, 1, 3)\n",
    "geometric_sum_formula(100, 1, 3)"
   ],
   "outputs": [
    {
     "name": "stdout",
     "output_type": "stream",
     "text": [
      "A soma final é: 257688760366005665518230564882810636351053761000\n",
      "A soma final é: 2.5768876036600566e+47\n"
     ]
    }
   ],
   "execution_count": 16
  },
  {
   "cell_type": "markdown",
   "id": "8512686e550caa3e",
   "metadata": {},
   "source": [
    "**Input -** Number n of terms in an arithmetic progression, the initial term a and the common difference d\n",
    "\n",
    "**Output -** Sum of the first n terms using\n",
    "1. Iteration\n",
    "2. Formula of ex. 28, sec. 2.2"
   ]
  }
 ],
 "metadata": {
  "kernelspec": {
   "display_name": "Python 3 (ipykernel)",
   "language": "python",
   "name": "python3"
  },
  "language_info": {
   "codemirror_mode": {
    "name": "ipython",
    "version": 3
   },
   "file_extension": ".py",
   "mimetype": "text/x-python",
   "name": "python",
   "nbconvert_exporter": "python",
   "pygments_lexer": "ipython3",
   "version": "3.11.2"
  }
 },
 "nbformat": 4,
 "nbformat_minor": 5
}
